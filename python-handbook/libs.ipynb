{
 "cells": [
  {
   "cell_type": "code",
   "execution_count": 1,
   "metadata": {},
   "outputs": [
    {
     "data": {
      "text/plain": [
       "[<matplotlib.lines.Line2D at 0x20629342ae0>]"
      ]
     },
     "execution_count": 1,
     "metadata": {},
     "output_type": "execute_result"
    },
    {
     "data": {
      "image/png": "[encoded data removed]",
      "text/plain": [
       "<Figure size 640x480 with 1 Axes>"
      ]
     },
     "metadata": {},
     "output_type": "display_data"
    }
   ],
   "source": [
    "import matplotlib.pyplot as plt\n",
    "\n",
    "x = [1,3,5,6]\n",
    "y = [1,4,7,9]\n",
    "\n",
    "plt.plot(x, y)"
   ]
  },
  {
   "cell_type": "code",
   "execution_count": null,
   "metadata": {},
   "outputs": [],
   "source": [
    "import math\n",
    "\n",
    "# количество сочетаний из n элементов по k элементам без повторений и без учёта порядка\n",
    "print(math.comb(12, 3))  # 220\n",
    "\n",
    "# НОД\n",
    "print(math.gcd(120, 210, 360))  # 30\n",
    "\n",
    "# возвращает количество размещений из n элементов по k элементам без повторений и с учётом порядка.  math.perm(n, k=None)\n",
    "print(math.perm(4, 2))  # 12\n",
    "print(math.perm(4))  # 24\n",
    "\n",
    "# возвращает значение x в степени y\n",
    "print(math.pow(2, 10))  # 1024.0\n",
    "print(math.pow(4.5, 3.7))  # 261.1477575641718\n",
    "\n",
    "#  возвращает Евклидово расстояние между точками p и q\n",
    "print(math.dist((0, 0, 0), (1, 1, 1)))  # 1.7320508075688772"
   ]
  },
  {
   "cell_type": "code",
   "execution_count": 1,
   "metadata": {},
   "outputs": [
    {
     "name": "stdout",
     "output_type": "stream",
     "text": [
      "a[0] = 1\n",
      "b[0] = [1 2]\n"
     ]
    }
   ],
   "source": [
    "# numpy\n",
    "# pip install numpy\n",
    "\n",
    "import numpy as np\n",
    "\n",
    "a = np.array([1, 2, 3, 4])\n",
    "b = np.array([[1, 2], [3, 4], [5, 6], [7, 8]])\n",
    "print(f\"a[0] = {a[0]}\")\n",
    "print(f\"b[0] = {b[0]}\")\n"
   ]
  },
  {
   "cell_type": "code",
   "execution_count": 2,
   "metadata": {},
   "outputs": [
    {
     "name": "stdout",
     "output_type": "stream",
     "text": [
      "a.ndim = 2, a.shape = (4, 2), a.size = 8, a.dtype = int32\n"
     ]
    }
   ],
   "source": [
    "import numpy as np\n",
    "\n",
    "# ndarray.ndim — размерность (количество осей) массива;\n",
    "# ndarray.shape — кортеж, значения которого содержат количество элементов по каждой из осей массива;\n",
    "# ndarray.size — общее количество элементов массива;\n",
    "# ndarray.dtype — объект, описывающий тип данных элементов массива;\n",
    "# ndarray.itemsize — размер памяти в байтах, занимаемый одним элементом массива.\n",
    "a = np.array([[1, 2], [3, 4], [5, 6], [7, 8]])\n",
    "print(f\"a.ndim = {a.ndim}, a.shape = {a.shape}, a.size = {a.size}, a.dtype = {a.dtype}\")"
   ]
  },
  {
   "cell_type": "code",
   "execution_count": 3,
   "metadata": {},
   "outputs": [
    {
     "name": "stdout",
     "output_type": "stream",
     "text": [
      "[[0. 0. 0.]\n",
      " [0. 0. 0.]\n",
      " [0. 0. 0.]\n",
      " [0. 0. 0.]]\n",
      "\n",
      "[[0 0 0]\n",
      " [0 0 0]\n",
      " [0 0 0]\n",
      " [0 0 0]]\n"
     ]
    }
   ],
   "source": [
    "import numpy as np\n",
    "\n",
    "a = np.zeros((4, 3))\n",
    "print(a)\n",
    "print()\n",
    "a = np.zeros((4, 3), dtype=\"int32\")\n",
    "print(a)"
   ]
  },
  {
   "cell_type": "code",
   "execution_count": 4,
   "metadata": {},
   "outputs": [
    {
     "name": "stdout",
     "output_type": "stream",
     "text": [
      "[[1. 1. 1.]\n",
      " [1. 1. 1.]\n",
      " [1. 1. 1.]\n",
      " [1. 1. 1.]]\n"
     ]
    }
   ],
   "source": [
    "import numpy as np\n",
    "\n",
    "a = np.ones((4, 3))\n",
    "print(a)"
   ]
  },
  {
   "cell_type": "code",
   "execution_count": 5,
   "metadata": {},
   "outputs": [
    {
     "name": "stdout",
     "output_type": "stream",
     "text": [
      "[[1 0 0 0 0]\n",
      " [0 1 0 0 0]\n",
      " [0 0 1 0 0]\n",
      " [0 0 0 1 0]\n",
      " [0 0 0 0 1]]\n"
     ]
    }
   ],
   "source": [
    "import numpy as np\n",
    "\n",
    "# [[1 0 0 0 0]\n",
    "#  [0 1 0 0 0]\n",
    "#  [0 0 1 0 0]\n",
    "#  [0 0 0 1 0]\n",
    "#  [0 0 0 0 1]]\n",
    "a = np.eye(5, 5, dtype=\"int8\")\n",
    "print(a)"
   ]
  },
  {
   "cell_type": "code",
   "execution_count": null,
   "metadata": {},
   "outputs": [],
   "source": [
    "import numpy as np\n",
    "\n",
    "a = np.arange(1, 10)\n",
    "print(a)\n",
    "print()\n",
    "a = np.arange(1, 5, 0.4)\n",
    "print(a)"
   ]
  },
  {
   "cell_type": "code",
   "execution_count": 6,
   "metadata": {},
   "outputs": [
    {
     "name": "stdout",
     "output_type": "stream",
     "text": [
      "[[0 0 0]\n",
      " [0 0 0]\n",
      " [0 0 0]\n",
      " [0 0 0]]\n",
      "\n",
      "[[0 0 0 0 0 0]\n",
      " [0 0 0 0 0 0]]\n"
     ]
    }
   ],
   "source": [
    "import numpy as np\n",
    "\n",
    "a = np.zeros((4, 3), dtype=\"uint8\")\n",
    "print(a)\n",
    "print()\n",
    "a = a.reshape((2, 6))\n",
    "print(a)"
   ]
  },
  {
   "cell_type": "code",
   "execution_count": 7,
   "metadata": {},
   "outputs": [
    {
     "name": "stdout",
     "output_type": "stream",
     "text": [
      "[[0 0 0]\n",
      " [0 0 0]\n",
      " [0 0 0]\n",
      " [0 0 0]]\n",
      "\n",
      "[[[0 0 0]\n",
      "  [0 0 0]]\n",
      "\n",
      " [[0 0 0]\n",
      "  [0 0 0]]]\n"
     ]
    }
   ],
   "source": [
    "import numpy as np\n",
    "\n",
    "a = np.zeros((4, 3), dtype=\"uint8\")\n",
    "print(a)\n",
    "print()\n",
    "a.resize((2, 2, 3))\n",
    "print(a)"
   ]
  },
  {
   "cell_type": "code",
   "execution_count": 8,
   "metadata": {},
   "outputs": [
    {
     "name": "stdout",
     "output_type": "stream",
     "text": [
      "[[ 1  2  3]\n",
      " [ 4  5  6]\n",
      " [ 7  8  9]\n",
      " [10 11 12]]\n",
      "Транспонирование\n",
      "[[ 1  4  7 10]\n",
      " [ 2  5  8 11]\n",
      " [ 3  6  9 12]]\n",
      "Поворот влево\n",
      "[[ 3  6  9 12]\n",
      " [ 2  5  8 11]\n",
      " [ 1  4  7 10]]\n",
      "Поворот вправо\n",
      "[[10  7  4  1]\n",
      " [11  8  5  2]\n",
      " [12  9  6  3]]\n"
     ]
    }
   ],
   "source": [
    "import numpy as np\n",
    "\n",
    "a = np.arange(1, 13).reshape(4, 3)\n",
    "print(a)\n",
    "print(\"Транспонирование\")\n",
    "print(a.transpose())\n",
    "print(\"Поворот влево\")\n",
    "print(np.rot90(a))\n",
    "print(\"Поворот вправо\")\n",
    "print(np.rot90(a, -1))"
   ]
  },
  {
   "cell_type": "code",
   "execution_count": 9,
   "metadata": {},
   "outputs": [
    {
     "name": "stdout",
     "output_type": "stream",
     "text": [
      "45\n",
      "1\n",
      "9\n"
     ]
    }
   ],
   "source": [
    "import numpy as np\n",
    "\n",
    "a = np.array([[1, 2, 3],\n",
    "             [4, 5, 6],\n",
    "             [7, 8, 9]])\n",
    "print(a.sum())\n",
    "print(a.min())\n",
    "print(a.max())\n",
    "\n",
    "import numpy as np\n",
    "\n",
    "a = np.array([[1, 2, 3],\n",
    "              [4, 5, 6],\n",
    "              [7, 8, 9]])\n",
    "print(a.sum(axis=0))  # сумма чисел в каждом столбце\n",
    "print(a.sum(axis=1))  # сумма чисел в каждой строке\n",
    "print(a.min(axis=0))  # минимум по столбцам\n",
    "print(a.max(axis=1))  # максимум по строкам"
   ]
  },
  {
   "cell_type": "code",
   "execution_count": 10,
   "metadata": {},
   "outputs": [
    {
     "name": "stdout",
     "output_type": "stream",
     "text": [
      "[[ 1  2  3  4]\n",
      " [ 5  6  7  8]\n",
      " [ 9 10 11 12]]\n",
      "\n",
      "[[3 4]\n",
      " [7 8]]\n",
      "\n",
      "[[ 1  3]\n",
      " [ 5  7]\n",
      " [ 9 11]]\n"
     ]
    }
   ],
   "source": [
    "import numpy as np\n",
    "\n",
    "a = np.arange(1, 13).reshape(3, 4)\n",
    "print(a)\n",
    "print()\n",
    "print(a[:2, 2:])\n",
    "print()\n",
    "print(a[:, ::2])"
   ]
  },
  {
   "cell_type": "code",
   "execution_count": 11,
   "metadata": {},
   "outputs": [
    {
     "name": "stdout",
     "output_type": "stream",
     "text": [
      "Результат итератора: 21081849486.442493.\n",
      "4.140788793563843 с.\n",
      "Результат numpy: 21081849486.442448.\n",
      "0.14054274559020996 с.\n"
     ]
    }
   ],
   "source": [
    "import numpy as np\n",
    "from time import time\n",
    "\n",
    "t = time()\n",
    "print(f\"Результат итератора: {sum(x ** 0.5 for x in range(10 ** 7))}.\")\n",
    "print(f\"{time() - t} с.\")\n",
    "t = time()\n",
    "print(f\"Результат numpy: {np.sqrt(np.arange(10 ** 7)).sum()}.\")\n",
    "print(f\"{time() - t} с.\")"
   ]
  },
  {
   "cell_type": "code",
   "execution_count": 15,
   "metadata": {},
   "outputs": [
    {
     "name": "stdout",
     "output_type": "stream",
     "text": [
      "a    0\n",
      "b    1\n",
      "c    2\n",
      "d    3\n",
      "e    4\n",
      "dtype: int32\n",
      "\n",
      "0    0.00\n",
      "1    0.25\n",
      "2    0.50\n",
      "3    0.75\n",
      "4    1.00\n",
      "dtype: float64\n",
      "a    0\n",
      "b    1\n",
      "c    2\n",
      "d    3\n",
      "e    4\n",
      "dtype: int32\n",
      "\n",
      "0    0.00\n",
      "1    0.25\n",
      "2    0.50\n",
      "3    0.75\n",
      "4    1.00\n",
      "dtype: float64\n",
      "a    10\n",
      "b    20\n",
      "c    30\n",
      "g    40\n",
      "dtype: int64\n",
      "\n",
      "a    10.0\n",
      "b    20.0\n",
      "c    30.0\n",
      "d     NaN\n",
      "dtype: float64\n"
     ]
    }
   ],
   "source": [
    "# pip install pandas\n",
    "\n",
    "# В библиотеке pandas определены два класса объектов для работы с данными:\n",
    "\n",
    "# Series — одномерный массив, который может хранить значения любого типа данных;\n",
    "# DataFrame — двумерный массив (таблица), в котором столбцами являются объекты класса Series.\n",
    "# Создать объект класса Series можно следующим образом:\n",
    "\n",
    "# s = pd.Series(data, index=index)\n",
    "import numpy as np\n",
    "import pandas as pd\n",
    "\n",
    "s = pd.Series(np.arange(5), index=[\"a\", \"b\", \"c\", \"d\", \"e\"])\n",
    "print(s)\n",
    "print()\n",
    "s = pd.Series(np.linspace(0, 1, 5))\n",
    "print(s)\n",
    "\n",
    "s = pd.Series(np.arange(5), index=[\"a\", \"b\", \"c\", \"d\", \"e\"])\n",
    "print(s)\n",
    "print()\n",
    "s = pd.Series(np.linspace(0, 1, 5))\n",
    "print(s)\n",
    "\n",
    "d = {\"a\": 10, \"b\": 20, \"c\": 30, \"g\": 40}\n",
    "print(pd.Series(d))\n",
    "print()\n",
    "print(pd.Series(d, index=[\"a\", \"b\", \"c\", \"d\"]))"
   ]
  },
  {
   "cell_type": "code",
   "execution_count": 16,
   "metadata": {},
   "outputs": [
    {
     "name": "stdout",
     "output_type": "stream",
     "text": [
      "Выбор одного элемента\n",
      "0\n",
      "Выбор нескольких элементов\n",
      "a    0\n",
      "d    3\n",
      "dtype: int32\n",
      "Срез\n",
      "b    1\n",
      "c    2\n",
      "d    3\n",
      "e    4\n",
      "dtype: int32\n",
      "Поэлементное сложение\n",
      "a    0\n",
      "b    2\n",
      "c    4\n",
      "d    6\n",
      "e    8\n",
      "dtype: int32\n"
     ]
    }
   ],
   "source": [
    "s = pd.Series(np.arange(5), index=[\"a\", \"b\", \"c\", \"d\", \"e\"])\n",
    "print(\"Выбор одного элемента\")\n",
    "print(s[\"a\"])\n",
    "print(\"Выбор нескольких элементов\")\n",
    "print(s[[\"a\", \"d\"]])\n",
    "print(\"Срез\")\n",
    "print(s[1:])\n",
    "print(\"Поэлементное сложение\")\n",
    "print(s + s)\n",
    "\n",
    "s = pd.Series(np.arange(5), index=[\"a\", \"b\", \"c\", \"d\", \"e\"])\n",
    "print(\"Фильтрация\")\n",
    "print(s[s > 2])\n",
    "\n"
   ]
  },
  {
   "cell_type": "code",
   "execution_count": 21,
   "metadata": {},
   "outputs": [
    {
     "name": "stdout",
     "output_type": "stream",
     "text": [
      "     student  math  physics\n",
      "0  Студент_1     5        4\n",
      "1  Студент_2     3        5\n",
      "2  Студент_3     4        5\n"
     ]
    }
   ],
   "source": [
    "students_marks_dict = {\"student\": [\"Студент_1\", \"Студент_2\", \"Студент_3\"],\n",
    "                       \"math\": [5, 3, 4],\n",
    "                       \"physics\": [4, 5, 5]}\n",
    "students = pd.DataFrame(students_marks_dict)\n",
    "print(students)\n",
    "\n",
    "# RangeIndex(start=0, stop=3, step=1)\n",
    "# Index(['student', 'math', 'physics'], dtype='object')"
   ]
  },
  {
   "cell_type": "code",
   "execution_count": 23,
   "metadata": {},
   "outputs": [
    {
     "name": "stdout",
     "output_type": "stream",
     "text": [
      "<Response [200]>\n"
     ]
    }
   ],
   "source": [
    "# pip install requests\n",
    "from requests import get\n",
    "\n",
    "response = get(\"https://static-maps.yandex.ru/1.x/?\"\n",
    "             \"ll=37.677751,55.757718&\"\n",
    "             \"spn=0.016457,0.00619&\"\n",
    "             \"l=map\")\n",
    "print(response)"
   ]
  },
  {
   "cell_type": "code",
   "execution_count": 25,
   "metadata": {},
   "outputs": [
    {
     "ename": "NameError",
     "evalue": "name 'access_token' is not defined",
     "output_type": "error",
     "traceback": [
      "\u001b[1;31m---------------------------------------------------------------------------\u001b[0m",
      "\u001b[1;31mNameError\u001b[0m                                 Traceback (most recent call last)",
      "Cell \u001b[1;32mIn[25], line 1\u001b[0m\n\u001b[1;32m----> 1\u001b[0m headers \u001b[38;5;241m=\u001b[39m {\u001b[38;5;124m\"\u001b[39m\u001b[38;5;124mAuthorization\u001b[39m\u001b[38;5;124m\"\u001b[39m: \u001b[38;5;124mf\u001b[39m\u001b[38;5;124m\"\u001b[39m\u001b[38;5;124mOAuth \u001b[39m\u001b[38;5;132;01m{\u001b[39;00m\u001b[43maccess_token\u001b[49m\u001b[38;5;132;01m}\u001b[39;00m\u001b[38;5;124m\"\u001b[39m}\n\u001b[0;32m      2\u001b[0m r \u001b[38;5;241m=\u001b[39m get(\u001b[38;5;124m\"\u001b[39m\u001b[38;5;124mhttps://cloud-api.yandex.net/v1/disk\u001b[39m\u001b[38;5;124m\"\u001b[39m, headers\u001b[38;5;241m=\u001b[39mheaders)\n\u001b[0;32m      3\u001b[0m \u001b[38;5;28mprint\u001b[39m(r\u001b[38;5;241m.\u001b[39mjson())\n",
      "\u001b[1;31mNameError\u001b[0m: name 'access_token' is not defined"
     ]
    }
   ],
   "source": [
    "from requests_oauthlib import OAuth2Session\n",
    "from requests import get, post, put, delete\n",
    "\n",
    "headers = {\"Authorization\": f\"OAuth {access_token}\"}\n",
    "r = get(\"https://cloud-api.yandex.net/v1/disk\", headers=headers)\n",
    "print(r.json())"
   ]
  },
  {
   "cell_type": "code",
   "execution_count": null,
   "metadata": {},
   "outputs": [],
   "source": []
  },
  {
   "cell_type": "code",
   "execution_count": null,
   "metadata": {},
   "outputs": [],
   "source": []
  }
 ],
 "metadata": {
  "kernelspec": {
   "display_name": "Python 3",
   "language": "python",
   "name": "python3"
  },
  "language_info": {
   "codemirror_mode": {
    "name": "ipython",
    "version": 3
   },
   "file_extension": ".py",
   "mimetype": "text/x-python",
   "name": "python",
   "nbconvert_exporter": "python",
   "pygments_lexer": "ipython3",
   "version": "3.12.3"
  }
 },
 "nbformat": 4,
 "nbformat_minor": 2
}
