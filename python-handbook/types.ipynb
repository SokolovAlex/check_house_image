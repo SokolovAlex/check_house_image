{
 "cells": [
  {
   "cell_type": "code",
   "execution_count": 5,
   "metadata": {},
   "outputs": [
    {
     "name": "stdout",
     "output_type": "stream",
     "text": [
      "1\n",
      "3\n"
     ]
    }
   ],
   "source": [
    "# Types\n",
    "text = input()\n",
    "print(text[0])"
   ]
  },
  {
   "cell_type": "code",
   "execution_count": null,
   "metadata": {},
   "outputs": [],
   "source": [
    "text = input(\"Введите строку: \")\n",
    "i = int(input(\"Введите индекс символа: \"))\n",
    "if i < len(text):\n",
    "    print(text[i])\n",
    "else:\n",
    "    print(\"Индекс выходит за пределы строки\")"
   ]
  },
  {
   "cell_type": "code",
   "execution_count": 6,
   "metadata": {},
   "outputs": [
    {
     "name": "stdout",
     "output_type": "stream",
     "text": [
      "1\n",
      "2\n",
      "3\n",
      "4\n"
     ]
    }
   ],
   "source": [
    "text = input()\n",
    "for i in range(len(text)):\n",
    "    print(text[i])"
   ]
  },
  {
   "cell_type": "code",
   "execution_count": 7,
   "metadata": {},
   "outputs": [
    {
     "name": "stdout",
     "output_type": "stream",
     "text": [
      "0. 1\n",
      "1. 2\n",
      "2. 3\n",
      "3. 4\n",
      "4. '\n"
     ]
    }
   ],
   "source": [
    "text = input()\n",
    "for i, letter in enumerate(text):\n",
    "    print(f\"{i}. {letter}\")"
   ]
  },
  {
   "cell_type": "code",
   "execution_count": 8,
   "metadata": {},
   "outputs": [
    {
     "name": "stdout",
     "output_type": "stream",
     "text": [
      "мир\n",
      "Привет\n",
      "мир!\n",
      "Привет, мир!\n",
      "Пие,мр\n"
     ]
    }
   ],
   "source": [
    "text = \"Привет, мир!\"\n",
    "print(text[8:11])\n",
    "print(text[:6])\n",
    "print(text[8:])\n",
    "print(text[:])\n",
    "print(text[::2])"
   ]
  },
  {
   "cell_type": "code",
   "execution_count": 10,
   "metadata": {},
   "outputs": [
    {
     "name": "stdout",
     "output_type": "stream",
     "text": [
      "10\n",
      "50\n",
      "[20, 30]\n",
      "[50, 40, 30, 20, 10]\n"
     ]
    }
   ],
   "source": [
    "numbers = [10, 20, 30, 40, 50]\n",
    "print(numbers[0])\n",
    "print(numbers[-1])\n",
    "print(numbers[1:3])\n",
    "print(numbers[::-1])"
   ]
  },
  {
   "cell_type": "code",
   "execution_count": 12,
   "metadata": {},
   "outputs": [
    {
     "name": "stdout",
     "output_type": "stream",
     "text": [
      "[1, 2, 3]\n",
      "[4, 3, 2]\n"
     ]
    }
   ],
   "source": [
    "numbers = [int(input()) for i in range(3)]\n",
    "print(numbers)\n",
    "\n",
    "\n",
    "numbers = []\n",
    "for i in range(3):\n",
    "    numbers.append(int(input()))\n",
    "print(numbers)"
   ]
  },
  {
   "cell_type": "code",
   "execution_count": 9,
   "metadata": {},
   "outputs": [
    {
     "name": "stdout",
     "output_type": "stream",
     "text": [
      "[10, 20]\n",
      "[2, 4]\n"
     ]
    }
   ],
   "source": [
    "numbers = [10, 20, 50]\n",
    "del numbers[-1]\n",
    "print(numbers)\n",
    "\n",
    "numbers = [1, 2, 3, 4, 5]\n",
    "del numbers[::2]\n",
    "print(numbers)"
   ]
  },
  {
   "cell_type": "code",
   "execution_count": 13,
   "metadata": {},
   "outputs": [
    {
     "name": "stdout",
     "output_type": "stream",
     "text": [
      "a = 2, b = 1\n"
     ]
    }
   ],
   "source": [
    "# Кортеж\n",
    "\n",
    "a = 1\n",
    "b = 2\n",
    "(a, b) = (b, a)\n",
    "# можно опустить круглые скобки и записать так a, b = b, a\n",
    "print(f\"a = {a}, b = {b}\")"
   ]
  },
  {
   "cell_type": "code",
   "execution_count": 14,
   "metadata": {},
   "outputs": [
    {
     "name": "stdout",
     "output_type": "stream",
     "text": [
      "['П', 'р', 'и', 'в', 'е', 'т', ',', ' ', 'м', 'и', 'р', '!']\n",
      "('П', 'р', 'и', 'в', 'е', 'т', ',', ' ', 'м', 'и', 'р', '!')\n",
      "['П', 'р', 'и', 'в', 'е', 'т', ',', ' ', 'м', 'и', 'р', '!']\n"
     ]
    }
   ],
   "source": [
    "text = \"Привет, мир!\"\n",
    "list_symbols = list(text)\n",
    "tuple_symbols = tuple(text)\n",
    "text_from_list = str(list_symbols)\n",
    "print(list_symbols)\n",
    "print(tuple_symbols)\n",
    "print(text_from_list)"
   ]
  },
  {
   "cell_type": "code",
   "execution_count": 16,
   "metadata": {},
   "outputs": [
    {
     "name": "stdout",
     "output_type": "stream",
     "text": [
      "Гласная буква\n"
     ]
    }
   ],
   "source": [
    "vowels = {\"а\", \"е\", \"ё\", \"и\", \"о\", \"у\", \"ы\", \"э\", \"ю\", \"я\"}\n",
    "letter = input(\"Введите букву русского алфавита: \")\n",
    "if letter.lower() in vowels:\n",
    "    print(\"Гласная буква\")\n",
    "else:\n",
    "    print(\"Согласная буква\")"
   ]
  },
  {
   "cell_type": "code",
   "execution_count": 17,
   "metadata": {},
   "outputs": [
    {
     "name": "stdout",
     "output_type": "stream",
     "text": [
      "{1, 2, 3, 4, 5}\n"
     ]
    }
   ],
   "source": [
    "s_1 = {1, 2, 3}\n",
    "s_2 = {3, 4, 5}\n",
    "s_union = s_1 | s_2\n",
    "# s_union = s_1.union(s_2)\n",
    "print(s_union)\n",
    "\n",
    "s_1 = {1, 2, 3}\n",
    "s_2 = {3, 4, 5}\n",
    "s_intersection = s_1 & s_2\n",
    "# s_intersection = s_1.intersection(s_2)\n",
    "print(s_intersection)\n",
    "\n",
    "s_1 = {1, 2, 3}\n",
    "s_2 = {3, 4, 5}\n",
    "s_dif = s_1 - s_2\n",
    "# s_dif = s_1.difference(s_2)\n",
    "print(s_dif)\n",
    "\n",
    "s_1 = {1, 2, 3}\n",
    "s_2 = {3, 4, 5}\n",
    "s_sym_dif = s_1 ^ s_2\n",
    "# s_sym_dif = s_1.symmetric_difference(s_2)\n",
    "print(s_sym_dif)"
   ]
  },
  {
   "cell_type": "code",
   "execution_count": 18,
   "metadata": {},
   "outputs": [
    {
     "name": "stdout",
     "output_type": "stream",
     "text": [
      "{1, 2, 4, 5}\n"
     ]
    }
   ],
   "source": [
    "s_1 = {1, 2, 3}\n",
    "s_2 = {3, 1, 2}\n",
    "print(s_1 == s_2)\n",
    "\n",
    "s_1 = {1, 2, 3}\n",
    "s_2 = {1, 2, 3, 4}\n",
    "print(s_1 <= s_2)\n",
    "\n",
    "s_1 = {1, 2, 3}\n",
    "s_2 = {1, 2, 3, 4}\n",
    "print(s_2 >= s_1)"
   ]
  },
  {
   "cell_type": "code",
   "execution_count": 19,
   "metadata": {},
   "outputs": [
    {
     "name": "stdout",
     "output_type": "stream",
     "text": [
      "{'Россия': 'Москва', 'США': 'Вашингтон', 'Франция': 'Париж', 'Сербия': 'Белград'}\n"
     ]
    }
   ],
   "source": [
    "countries_and_capitals = {\"Россия\": \"Москва\",\n",
    "                          \"США\": \"Вашингтон\",\n",
    "                          \"Франция\": \"Париж\"}\n",
    "countries_and_capitals[\"Сербия\"] = \"Белград\"\n",
    "print(countries_and_capitals)"
   ]
  },
  {
   "cell_type": "code",
   "execution_count": 1,
   "metadata": {},
   "outputs": [
    {
     "name": "stdout",
     "output_type": "stream",
     "text": [
      "TrueResult\n"
     ]
    }
   ],
   "source": [
    "ternaryResult = \"True Result\" if 1 in [1,2,3] else \"Else result\"\n",
    "\n",
    "print(ternaryResult)"
   ]
  },
  {
   "cell_type": "markdown",
   "metadata": {},
   "source": []
  }
 ],
 "metadata": {
  "kernelspec": {
   "display_name": "Python 3",
   "language": "python",
   "name": "python3"
  },
  "language_info": {
   "codemirror_mode": {
    "name": "ipython",
    "version": 3
   },
   "file_extension": ".py",
   "mimetype": "text/x-python",
   "name": "python",
   "nbconvert_exporter": "python",
   "pygments_lexer": "ipython3",
   "version": "3.12.3"
  }
 },
 "nbformat": 4,
 "nbformat_minor": 2
}
