{
 "cells": [
  {
   "cell_type": "code",
   "execution_count": null,
   "metadata": {},
   "outputs": [],
   "source": [
    "# def <имя функции>(<аргументы функции>):\n",
    "#     <тело функции>\n",
    "\n",
    "def only_even(numbers):\n",
    "    result = True\n",
    "    for x in numbers:\n",
    "        if x % 2 != 0:\n",
    "            result = False\n",
    "            break\n",
    "    return result\n",
    "\n",
    "\n",
    "print(only_even([2, 4, 6]))\n",
    "print(only_even([1, 2, 3]))"
   ]
  },
  {
   "cell_type": "code",
   "execution_count": null,
   "metadata": {},
   "outputs": [],
   "source": [
    "def list_modify():\n",
    "    sample = [4, 5, 6]\n",
    "\n",
    "\n",
    "sample = [1, 2, 3]\n",
    "list_modify()\n",
    "print(sample)"
   ]
  },
  {
   "cell_type": "code",
   "execution_count": null,
   "metadata": {},
   "outputs": [],
   "source": [
    "def list_modify_1(list_arg):\n",
    "    # создаём новый локальный список, не имеющий связи с внешним\n",
    "    list_arg = [1, 2, 3, 4]\n",
    "\n",
    "\n",
    "def list_modify_2(list_arg):\n",
    "    # меняем исходный внешний список, переданный как аргумент\n",
    "    list_arg += [4]\n",
    "\n",
    "\n",
    "sample_1 = [1, 2, 3]\n",
    "sample_2 = [1, 2, 3]\n",
    "list_modify_1(sample_1)\n",
    "list_modify_2(sample_2)\n",
    "print(sample_1)\n",
    "print(sample_2)"
   ]
  },
  {
   "cell_type": "code",
   "execution_count": null,
   "metadata": {},
   "outputs": [],
   "source": [
    "def inc():\n",
    "    global x\n",
    "    x += 1\n",
    "    print(f\"Количество вызовов функции равно {x}.\")\n",
    "\n",
    "\n",
    "x = 0\n",
    "inc()\n",
    "inc()\n",
    "inc()"
   ]
  },
  {
   "cell_type": "code",
   "execution_count": 1,
   "metadata": {},
   "outputs": [
    {
     "name": "stdout",
     "output_type": "stream",
     "text": [
      "950.0\n",
      "990.0\n"
     ]
    }
   ],
   "source": [
    "# default param\n",
    "def final_price(price, discount=1):\n",
    "    return price - price * discount / 100\n",
    "\n",
    "\n",
    "print(final_price(1000, 5))\n",
    "# Значение скидки не задано, используется значение по умолчанию\n",
    "print(final_price(1000))"
   ]
  },
  {
   "cell_type": "code",
   "execution_count": 2,
   "metadata": {},
   "outputs": [
    {
     "name": "stdout",
     "output_type": "stream",
     "text": [
      "[95.0, 190.0, 285.0, 380.0, 475.0]\n",
      "[190.0, 285.0, 380.0, 475.0]\n",
      "[95.0, 190.0]\n",
      "[190.0, 285.0]\n"
     ]
    }
   ],
   "source": [
    "#**kwargs (сокращение от keyword arguments). \n",
    "# В функции этот аргумент будет словарём, ключи которого будут строками, содержащими имена передаваемых аргументов, \n",
    "# значения по ключам будут соответствовать значениям передаваемых аргументов.\n",
    "def final_price(*prices, discount=1, **kwargs):\n",
    "    low = kwargs.get(\"price_low\", min(prices))\n",
    "    high = kwargs.get(\"price_high\", max(prices))\n",
    "    return [price - price * discount / 100 for price in prices if low <= price <= high]\n",
    "\n",
    "\n",
    "print(final_price(100, 200, 300, 400, 500, discount=5))\n",
    "print(final_price(100, 200, 300, 400, 500, discount=5, price_low=200))\n",
    "print(final_price(100, 200, 300, 400, 500, discount=5, price_high=200))\n",
    "print(final_price(100, 200, 300, 400, 500, discount=5, price_low=200, price_high=350))"
   ]
  },
  {
   "cell_type": "code",
   "execution_count": 3,
   "metadata": {},
   "outputs": [
    {
     "name": "stdout",
     "output_type": "stream",
     "text": [
      "15\n"
     ]
    }
   ],
   "source": [
    "from functools import reduce\n",
    "\n",
    "numbers = range(1, 6)\n",
    "print(reduce(lambda x, y: x + y, numbers))"
   ]
  },
  {
   "cell_type": "code",
   "execution_count": 4,
   "metadata": {},
   "outputs": [
    {
     "name": "stdout",
     "output_type": "stream",
     "text": [
      "120\n",
      "14930352\n"
     ]
    }
   ],
   "source": [
    "# Рекурсия. Декораторы. Генераторы\n",
    "\n",
    "def fact(n):\n",
    "    factorial = 1\n",
    "    for i in range(2, n + 1):\n",
    "        factorial *= i\n",
    "    return factorial\n",
    "\n",
    "\n",
    "print(fact(5))"
   ]
  },
  {
   "cell_type": "code",
   "execution_count": 5,
   "metadata": {},
   "outputs": [
    {
     "name": "stdout",
     "output_type": "stream",
     "text": [
      "Среднее время вычисления: 4.731 с.\n"
     ]
    }
   ],
   "source": [
    "from timeit import timeit\n",
    "\n",
    "\n",
    "def fib(n):\n",
    "    if n in (0, 1):\n",
    "        return 1\n",
    "    return fib(n - 1) + fib(n - 2)\n",
    "\n",
    "print(f\"Среднее время вычисления: \"\n",
    "      f\"{round(timeit('fib(35)', number=10, globals=globals()) / 10, 3)} с.\")"
   ]
  },
  {
   "cell_type": "code",
   "execution_count": 6,
   "metadata": {},
   "outputs": [
    {
     "name": "stdout",
     "output_type": "stream",
     "text": [
      "Среднее время вычисления: 0.0 с.\n"
     ]
    }
   ],
   "source": [
    "from timeit import timeit\n",
    "\n",
    "def fib(n):\n",
    "    f_1, f = 1, 1\n",
    "    for i in range(n - 1):\n",
    "        f_1, f = f, f_1 + f\n",
    "    return f\n",
    "\n",
    "print(f\"Среднее время вычисления: \"\n",
    "      f\"{round(timeit('fib(35)', number=10, globals=globals()) / 10, 3)} с.\")"
   ]
  },
  {
   "cell_type": "code",
   "execution_count": null,
   "metadata": {},
   "outputs": [],
   "source": [
    "# Декоратор принимает функцию f как аргумент\n",
    "def count(f):\n",
    "    total = 0\n",
    "\n",
    "    # Объявляем функцию, которая расширяет функционал f\n",
    "    def decorated(*args, **kwargs):\n",
    "        # Переменная total объявлена нелокальной для доступа из внутренней функции\n",
    "        nonlocal total\n",
    "        total += 1\n",
    "        # Возвращаем значение исходной функции и дополнительно total\n",
    "        return f(*args, **kwargs), total\n",
    "    # Возвращаем новую функцию как объект\n",
    "    return decorated\n",
    "\n",
    "\n",
    "@count\n",
    "def hello(name):\n",
    "    return f\"Привет, {name}!\"\n",
    "\n",
    "print(hello(\"Пользователь_1\"))\n",
    "print(hello(\"Пользователь_2\"))"
   ]
  },
  {
   "cell_type": "code",
   "execution_count": 7,
   "metadata": {},
   "outputs": [
    {
     "name": "stdout",
     "output_type": "stream",
     "text": [
      "1, 1, 2, 3, 5, 8, 13, 21, 34, 55\n"
     ]
    }
   ],
   "source": [
    "def fib(n):\n",
    "    n_1, n_2 = 1, 1\n",
    "    for i in range(n):\n",
    "        yield n_1\n",
    "        n_1, n_2 = n_2, n_1 + n_2\n",
    "\n",
    "print(\", \".join(str(x) for x in fib(10)))"
   ]
  }
 ],
 "metadata": {
  "kernelspec": {
   "display_name": "Python 3",
   "language": "python",
   "name": "python3"
  },
  "language_info": {
   "codemirror_mode": {
    "name": "ipython",
    "version": 3
   },
   "file_extension": ".py",
   "mimetype": "text/x-python",
   "name": "python",
   "nbconvert_exporter": "python",
   "pygments_lexer": "ipython3",
   "version": "3.12.3"
  }
 },
 "nbformat": 4,
 "nbformat_minor": 2
}
