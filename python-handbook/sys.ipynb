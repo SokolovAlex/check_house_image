{
 "cells": [
  {
   "cell_type": "code",
   "execution_count": 3,
   "metadata": {},
   "outputs": [
    {
     "name": "stdout",
     "output_type": "stream",
     "text": [
      "['Привет!\\n', 'Это пример текстового файла.\\n', 'А это — последняя строка, которая должна закончиться переходом на новую.']\n"
     ]
    }
   ],
   "source": [
    "file_in = open(\"test.txt\", encoding=\"UTF-8\")\n",
    "\n",
    "with open(\"test.txt\", encoding=\"UTF-8\") as file_in:\n",
    "    lines = file_in.readlines()\n",
    "print(lines)"
   ]
  },
  {
   "cell_type": "code",
   "execution_count": 4,
   "metadata": {},
   "outputs": [],
   "source": [
    "lines = [\"Это первая строка\\n\", \"А вот и вторая\\n\", \"И третья — последняя\\n\"]\n",
    "with open(\"test_2.txt\", \"w\", encoding=\"UTF-8\") as file_out:\n",
    "    file_out.writelines(lines)"
   ]
  },
  {
   "cell_type": "code",
   "execution_count": 5,
   "metadata": {},
   "outputs": [
    {
     "name": "stdout",
     "output_type": "stream",
     "text": [
      "[{'date_of_birth': '01.01.2001', 'first_name': 'Иван', 'group_number': 1, 'last_name': 'Иванов', 'patronymic': 'Иванович', 'phone_numbers': ['+7 111 111 1111', '+7 111 111 1112']}, {'date_of_birth': '10.10.2001', 'first_name': 'Пётр', 'group_number': 1, 'last_name': 'Петров', 'patronymic': 'Петрович', 'phone_numbers': ['+7 111 111 1113', '+7 111 111 1114']}]\n"
     ]
    }
   ],
   "source": [
    "import json\n",
    "\n",
    "with open(\"data.json\", encoding=\"UTF-8\") as file_in:\n",
    "    records = json.load(file_in)\n",
    "print(records)"
   ]
  },
  {
   "cell_type": "code",
   "execution_count": 6,
   "metadata": {},
   "outputs": [],
   "source": [
    "import json\n",
    "\n",
    "with open(\"data.json\", encoding=\"UTF-8\") as file_in:\n",
    "    records = json.load(file_in)\n",
    "records[1][\"group_number\"] = 2\n",
    "with open(\"data.json\", \"w\", encoding=\"UTF-8\") as file_out:\n",
    "    json.dump(records, file_out, ensure_ascii=False, indent=2)"
   ]
  }
 ],
 "metadata": {
  "kernelspec": {
   "display_name": "Python 3",
   "language": "python",
   "name": "python3"
  },
  "language_info": {
   "codemirror_mode": {
    "name": "ipython",
    "version": 3
   },
   "file_extension": ".py",
   "mimetype": "text/x-python",
   "name": "python",
   "nbconvert_exporter": "python",
   "pygments_lexer": "ipython3",
   "version": "3.12.3"
  }
 },
 "nbformat": 4,
 "nbformat_minor": 2
}
