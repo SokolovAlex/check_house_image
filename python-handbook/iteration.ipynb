{
 "cells": [
  {
   "cell_type": "code",
   "execution_count": 2,
   "metadata": {},
   "outputs": [
    {
     "name": "stdout",
     "output_type": "stream",
     "text": [
      "['Беларусь', 'Бельгия']\n"
     ]
    }
   ],
   "source": [
    "countries = {\"Россия\": [\"русский\"],\n",
    "             \"Беларусь\": [\"белорусский\", \"русский\"],\n",
    "             \"Бельгия\": [\"немецкий\", \"французский\", \"нидерландский\"],\n",
    "             \"Вьетнам\": [\"вьетнамский\"]}\n",
    "multiple_lang = [country for (country, lang) in countries.items() if len(lang) > 1]\n",
    "print(multiple_lang)"
   ]
  },
  {
   "cell_type": "code",
   "execution_count": 4,
   "metadata": {},
   "outputs": [
    {
     "name": "stdout",
     "output_type": "stream",
     "text": [
      "[[1, 1, 1], [2], [2]]\n"
     ]
    }
   ],
   "source": [
    "matrix = [[int(x) for x in input().split()] for i in range(3)]\n",
    "print(matrix)"
   ]
  },
  {
   "cell_type": "code",
   "execution_count": 5,
   "metadata": {},
   "outputs": [
    {
     "name": "stdout",
     "output_type": "stream",
     "text": [
      "[[0, 0, 0, 0, 0], [0, 0, 0, 0, 0], [0, 0, 0, 0, 0], [0, 0, 0, 0, 0], [0, 0, 0, 0, 0]]\n",
      "[[1, 0, 0, 0, 0], [1, 0, 0, 0, 0], [1, 0, 0, 0, 0], [1, 0, 0, 0, 0], [1, 0, 0, 0, 0]]\n"
     ]
    }
   ],
   "source": [
    "zeros = [[0] * 5] * 5\n",
    "print(zeros)\n",
    "zeros[0][0] = 1\n",
    "print(zeros)"
   ]
  },
  {
   "cell_type": "code",
   "execution_count": 6,
   "metadata": {},
   "outputs": [
    {
     "name": "stdout",
     "output_type": "stream",
     "text": [
      "{'Россия': 'Москва', 'Беларусь': 'Минск', 'Сербия': 'Белград'}\n"
     ]
    }
   ],
   "source": [
    "countries = {country: capital for country, capital in\n",
    "             [(\"Россия\", \"Москва\"),\n",
    "              (\"Беларусь\", \"Минск\"),\n",
    "              (\"Сербия\", \"Белград\")]}\n",
    "print(countries)"
   ]
  },
  {
   "cell_type": "code",
   "execution_count": 7,
   "metadata": {},
   "outputs": [
    {
     "name": "stdout",
     "output_type": "stream",
     "text": [
      "Итератор занимает 192 байт.\n",
      "Список занимает 8000056 байт.\n"
     ]
    }
   ],
   "source": [
    "from sys import getsizeof\n",
    "\n",
    "# Создаём итератор из одного миллиона целых чисел\n",
    "numbers_iter = (i for i in range(10 ** 6))\n",
    "# Выводим количество байт, занятых итератором\n",
    "print(f\"Итератор занимает {getsizeof(numbers_iter)} байт.\")\n",
    "# Создаём список\n",
    "numbers_list = list(range(10 ** 6))\n",
    "# Выводим количество байт, занятых списком\n",
    "print(f\"Список занимает {getsizeof(numbers_list)} байт.\")"
   ]
  },
  {
   "cell_type": "code",
   "execution_count": 8,
   "metadata": {},
   "outputs": [
    {
     "name": "stdout",
     "output_type": "stream",
     "text": [
      "50.309\n",
      "55.065\n"
     ]
    }
   ],
   "source": [
    "from timeit import timeit\n",
    "\n",
    "print(round(timeit(\"s = '; '.join(str(x) for x in range(10 ** 7))\", number=10), 3))\n",
    "print(round(timeit(\"s = '; '.join([str(x) for x in list(range(10 ** 7))])\", number=10), 3))"
   ]
  },
  {
   "cell_type": "code",
   "execution_count": 9,
   "metadata": {},
   "outputs": [
    {
     "name": "stdout",
     "output_type": "stream",
     "text": [
      "True\n",
      "False\n"
     ]
    }
   ],
   "source": [
    "x = [el ** 2 for el in range(5)]\n",
    "y = [el ** 2 for el in range(5)]\n",
    "print(x == y)\n",
    "print(x is y)"
   ]
  }
 ],
 "metadata": {
  "kernelspec": {
   "display_name": "Python 3",
   "language": "python",
   "name": "python3"
  },
  "language_info": {
   "codemirror_mode": {
    "name": "ipython",
    "version": 3
   },
   "file_extension": ".py",
   "mimetype": "text/x-python",
   "name": "python",
   "nbconvert_exporter": "python",
   "pygments_lexer": "ipython3",
   "version": "3.12.3"
  }
 },
 "nbformat": 4,
 "nbformat_minor": 2
}
