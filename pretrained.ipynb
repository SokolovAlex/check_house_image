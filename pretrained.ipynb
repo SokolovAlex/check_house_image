{
 "cells": [
  {
   "cell_type": "code",
   "execution_count": 4,
   "metadata": {},
   "outputs": [
    {
     "name": "stdout",
     "output_type": "stream",
     "text": [
      "Predicted label: palace, Probability: 0.4025\n"
     ]
    }
   ],
   "source": [
    "import torch\n",
    "import torchvision.transforms as transforms\n",
    "from torchvision import models\n",
    "from PIL import Image\n",
    "import requests\n",
    "from io import BytesIO\n",
    "\n",
    "# Загрузка предобученной модели ResNet\n",
    "model = models.resnet18(pretrained=True)\n",
    "model.eval()\n",
    "\n",
    "# Загрузка и предобработка изображения\n",
    "def process_image(image_path):\n",
    "    input_image = Image.open(image_path)\n",
    "    preprocess = transforms.Compose([\n",
    "        transforms.Resize(256),\n",
    "        transforms.CenterCrop(224),\n",
    "        transforms.ToTensor(),\n",
    "        transforms.Normalize(mean=[0.485, 0.456, 0.406], std=[0.229, 0.224, 0.225]),\n",
    "    ])\n",
    "    input_tensor = preprocess(input_image)\n",
    "    input_batch = input_tensor.unsqueeze(0)  # create a mini-batch as expected by the model\n",
    "\n",
    "    return input_batch\n",
    "\n",
    "# Функция для классификации изображения\n",
    "def classify_image(image_path):\n",
    "    input_batch = process_image(image_path)\n",
    "\n",
    "    with torch.no_grad():\n",
    "        output = model(input_batch)\n",
    "    \n",
    "    # Трансформируем выходные данные в вероятности\n",
    "    probabilities = torch.nn.functional.softmax(output[0], dim=0)\n",
    "    \n",
    "    # Загрузка меток классов\n",
    "    LABELS_URL = \"https://raw.githubusercontent.com/anishathalye/imagenet-simple-labels/master/imagenet-simple-labels.json\"\n",
    "    labels = requests.get(LABELS_URL).json()\n",
    "\n",
    "    # Получение метки класса с максимальной вероятностью\n",
    "    max_prob, max_idx = torch.max(probabilities, dim=0)\n",
    "    predicted_label = labels[max_idx]\n",
    "\n",
    "    return predicted_label, max_prob.item()\n",
    "\n",
    "# Пример использования -- по папке пройтись\n",
    "image_url = \"https://cf.bstatic.com/xdata/images/hotel/max1024x768/143407681.jpg?k=1b31194500187b168af60058a36fe5482defae5fcd105a2b13356a83b694d28a&o=&hp=1\"  # Замените на URL вашего изображения\n",
    "response = requests.get(image_url)\n",
    "image = Image.open(BytesIO(response.content))\n",
    "\n",
    "# Сохранение изображения локально для последующей обработки\n",
    "image_path = \"image.jpg\"\n",
    "image.save(image_path)\n",
    "\n",
    "# Классификация изображения\n",
    "predicted_label, probability = classify_image(image_path)\n",
    "print(f\"Predicted label: {predicted_label}, Probability: {probability:.4f}\")"
   ]
  }
 ],
 "metadata": {
  "kernelspec": {
   "display_name": "Python 3",
   "language": "python",
   "name": "python3"
  },
  "language_info": {
   "codemirror_mode": {
    "name": "ipython",
    "version": 3
   },
   "file_extension": ".py",
   "mimetype": "text/x-python",
   "name": "python",
   "nbconvert_exporter": "python",
   "pygments_lexer": "ipython3",
   "version": "3.12.3"
  }
 },
 "nbformat": 4,
 "nbformat_minor": 2
}
